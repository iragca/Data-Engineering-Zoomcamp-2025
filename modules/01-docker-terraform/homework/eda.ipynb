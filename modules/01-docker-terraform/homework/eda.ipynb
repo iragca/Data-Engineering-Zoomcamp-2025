{
 "cells": [
  {
   "cell_type": "markdown",
   "metadata": {},
   "source": [
    "# Setup"
   ]
  },
  {
   "cell_type": "code",
   "execution_count": 4,
   "metadata": {},
   "outputs": [
    {
     "name": "stdout",
     "output_type": "stream",
     "text": [
      "Requirement already satisfied: polars in d:\\documents\\3 production save files\\1 cloned repositories\\data-engineering-zoomcamp-2025\\.venv\\lib\\site-packages (1.21.0)Note: you may need to restart the kernel to use updated packages.\n",
      "\n",
      "Collecting matplotlib\n",
      "  Using cached matplotlib-3.10.0-cp310-cp310-win_amd64.whl.metadata (11 kB)\n",
      "Collecting seaborn\n",
      "  Using cached seaborn-0.13.2-py3-none-any.whl.metadata (5.4 kB)\n",
      "Collecting contourpy>=1.0.1 (from matplotlib)\n",
      "  Using cached contourpy-1.3.1-cp310-cp310-win_amd64.whl.metadata (5.4 kB)\n",
      "Collecting cycler>=0.10 (from matplotlib)\n",
      "  Using cached cycler-0.12.1-py3-none-any.whl.metadata (3.8 kB)\n",
      "Collecting fonttools>=4.22.0 (from matplotlib)\n",
      "  Using cached fonttools-4.55.6-cp310-cp310-win_amd64.whl.metadata (169 kB)\n",
      "Collecting kiwisolver>=1.3.1 (from matplotlib)\n",
      "  Using cached kiwisolver-1.4.8-cp310-cp310-win_amd64.whl.metadata (6.3 kB)\n",
      "Requirement already satisfied: numpy>=1.23 in d:\\documents\\3 production save files\\1 cloned repositories\\data-engineering-zoomcamp-2025\\.venv\\lib\\site-packages (from matplotlib) (2.2.2)\n",
      "Requirement already satisfied: packaging>=20.0 in d:\\documents\\3 production save files\\1 cloned repositories\\data-engineering-zoomcamp-2025\\.venv\\lib\\site-packages (from matplotlib) (24.2)\n",
      "Collecting pillow>=8 (from matplotlib)\n",
      "  Using cached pillow-11.1.0-cp310-cp310-win_amd64.whl.metadata (9.3 kB)\n",
      "Collecting pyparsing>=2.3.1 (from matplotlib)\n",
      "  Using cached pyparsing-3.2.1-py3-none-any.whl.metadata (5.0 kB)\n",
      "Requirement already satisfied: python-dateutil>=2.7 in d:\\documents\\3 production save files\\1 cloned repositories\\data-engineering-zoomcamp-2025\\.venv\\lib\\site-packages (from matplotlib) (2.9.0.post0)\n",
      "Requirement already satisfied: pandas>=1.2 in d:\\documents\\3 production save files\\1 cloned repositories\\data-engineering-zoomcamp-2025\\.venv\\lib\\site-packages (from seaborn) (2.2.3)\n",
      "Requirement already satisfied: pytz>=2020.1 in d:\\documents\\3 production save files\\1 cloned repositories\\data-engineering-zoomcamp-2025\\.venv\\lib\\site-packages (from pandas>=1.2->seaborn) (2024.2)\n",
      "Requirement already satisfied: tzdata>=2022.7 in d:\\documents\\3 production save files\\1 cloned repositories\\data-engineering-zoomcamp-2025\\.venv\\lib\\site-packages (from pandas>=1.2->seaborn) (2025.1)\n",
      "Requirement already satisfied: six>=1.5 in d:\\documents\\3 production save files\\1 cloned repositories\\data-engineering-zoomcamp-2025\\.venv\\lib\\site-packages (from python-dateutil>=2.7->matplotlib) (1.17.0)\n",
      "Using cached matplotlib-3.10.0-cp310-cp310-win_amd64.whl (8.0 MB)\n",
      "Using cached seaborn-0.13.2-py3-none-any.whl (294 kB)\n",
      "Using cached contourpy-1.3.1-cp310-cp310-win_amd64.whl (218 kB)\n",
      "Using cached cycler-0.12.1-py3-none-any.whl (8.3 kB)\n",
      "Using cached fonttools-4.55.6-cp310-cp310-win_amd64.whl (2.2 MB)\n",
      "Using cached kiwisolver-1.4.8-cp310-cp310-win_amd64.whl (71 kB)\n",
      "Using cached pillow-11.1.0-cp310-cp310-win_amd64.whl (2.6 MB)\n",
      "Using cached pyparsing-3.2.1-py3-none-any.whl (107 kB)\n",
      "Installing collected packages: pyparsing, pillow, kiwisolver, fonttools, cycler, contourpy, matplotlib, seaborn\n",
      "Successfully installed contourpy-1.3.1 cycler-0.12.1 fonttools-4.55.6 kiwisolver-1.4.8 matplotlib-3.10.0 pillow-11.1.0 pyparsing-3.2.1 seaborn-0.13.2\n"
     ]
    },
    {
     "name": "stderr",
     "output_type": "stream",
     "text": [
      "\n",
      "[notice] A new release of pip is available: 24.3.1 -> 25.0\n",
      "[notice] To update, run: python.exe -m pip install --upgrade pip\n"
     ]
    }
   ],
   "source": [
    "%pip install polars"
   ]
  },
  {
   "cell_type": "code",
   "execution_count": null,
   "metadata": {},
   "outputs": [],
   "source": [
    "import polars as pl"
   ]
  },
  {
   "cell_type": "code",
   "execution_count": 12,
   "metadata": {},
   "outputs": [],
   "source": [
    "green = pl.read_csv('green_tripdata_2019-10.csv', try_parse_dates=True)\n",
    "zone = pl.read_csv('taxi_zone_lookup.csv')"
   ]
  },
  {
   "cell_type": "code",
   "execution_count": 60,
   "metadata": {},
   "outputs": [
    {
     "data": {
      "text/html": [
       "<div><style>\n",
       ".dataframe > thead > tr,\n",
       ".dataframe > tbody > tr {\n",
       "  text-align: right;\n",
       "  white-space: pre-wrap;\n",
       "}\n",
       "</style>\n",
       "<small>shape: (5, 20)</small><table border=\"1\" class=\"dataframe\"><thead><tr><th>VendorID</th><th>lpep_pickup_datetime</th><th>lpep_dropoff_datetime</th><th>store_and_fwd_flag</th><th>RatecodeID</th><th>PULocationID</th><th>DOLocationID</th><th>passenger_count</th><th>trip_distance</th><th>fare_amount</th><th>extra</th><th>mta_tax</th><th>tip_amount</th><th>tolls_amount</th><th>ehail_fee</th><th>improvement_surcharge</th><th>total_amount</th><th>payment_type</th><th>trip_type</th><th>congestion_surcharge</th></tr><tr><td>i64</td><td>datetime[μs]</td><td>datetime[μs]</td><td>str</td><td>i64</td><td>i64</td><td>i64</td><td>i64</td><td>f64</td><td>f64</td><td>f64</td><td>f64</td><td>f64</td><td>f64</td><td>str</td><td>f64</td><td>f64</td><td>i64</td><td>i64</td><td>f64</td></tr></thead><tbody><tr><td>2</td><td>2019-10-01 00:26:02</td><td>2019-10-01 00:39:58</td><td>&quot;N&quot;</td><td>1</td><td>112</td><td>196</td><td>1</td><td>5.88</td><td>18.0</td><td>0.5</td><td>0.5</td><td>0.0</td><td>0.0</td><td>null</td><td>0.3</td><td>19.3</td><td>2</td><td>1</td><td>0.0</td></tr><tr><td>1</td><td>2019-10-01 00:18:11</td><td>2019-10-01 00:22:38</td><td>&quot;N&quot;</td><td>1</td><td>43</td><td>263</td><td>1</td><td>0.8</td><td>5.0</td><td>3.25</td><td>0.5</td><td>0.0</td><td>0.0</td><td>null</td><td>0.3</td><td>9.05</td><td>2</td><td>1</td><td>0.0</td></tr><tr><td>1</td><td>2019-10-01 00:09:31</td><td>2019-10-01 00:24:47</td><td>&quot;N&quot;</td><td>1</td><td>255</td><td>228</td><td>2</td><td>7.5</td><td>21.5</td><td>0.5</td><td>0.5</td><td>0.0</td><td>0.0</td><td>null</td><td>0.3</td><td>22.8</td><td>2</td><td>1</td><td>0.0</td></tr><tr><td>1</td><td>2019-10-01 00:37:40</td><td>2019-10-01 00:41:49</td><td>&quot;N&quot;</td><td>1</td><td>181</td><td>181</td><td>1</td><td>0.9</td><td>5.5</td><td>0.5</td><td>0.5</td><td>0.0</td><td>0.0</td><td>null</td><td>0.3</td><td>6.8</td><td>2</td><td>1</td><td>0.0</td></tr><tr><td>2</td><td>2019-10-01 00:08:13</td><td>2019-10-01 00:17:56</td><td>&quot;N&quot;</td><td>1</td><td>97</td><td>188</td><td>1</td><td>2.52</td><td>10.0</td><td>0.5</td><td>0.5</td><td>2.26</td><td>0.0</td><td>null</td><td>0.3</td><td>13.56</td><td>1</td><td>1</td><td>0.0</td></tr></tbody></table></div>"
      ],
      "text/plain": [
       "shape: (5, 20)\n",
       "┌──────────┬───────────┬───────────┬───────────┬───┬───────────┬───────────┬───────────┬───────────┐\n",
       "│ VendorID ┆ lpep_pick ┆ lpep_drop ┆ store_and ┆ … ┆ total_amo ┆ payment_t ┆ trip_type ┆ congestio │\n",
       "│ ---      ┆ up_dateti ┆ off_datet ┆ _fwd_flag ┆   ┆ unt       ┆ ype       ┆ ---       ┆ n_surchar │\n",
       "│ i64      ┆ me        ┆ ime       ┆ ---       ┆   ┆ ---       ┆ ---       ┆ i64       ┆ ge        │\n",
       "│          ┆ ---       ┆ ---       ┆ str       ┆   ┆ f64       ┆ i64       ┆           ┆ ---       │\n",
       "│          ┆ datetime[ ┆ datetime[ ┆           ┆   ┆           ┆           ┆           ┆ f64       │\n",
       "│          ┆ μs]       ┆ μs]       ┆           ┆   ┆           ┆           ┆           ┆           │\n",
       "╞══════════╪═══════════╪═══════════╪═══════════╪═══╪═══════════╪═══════════╪═══════════╪═══════════╡\n",
       "│ 2        ┆ 2019-10-0 ┆ 2019-10-0 ┆ N         ┆ … ┆ 19.3      ┆ 2         ┆ 1         ┆ 0.0       │\n",
       "│          ┆ 1         ┆ 1         ┆           ┆   ┆           ┆           ┆           ┆           │\n",
       "│          ┆ 00:26:02  ┆ 00:39:58  ┆           ┆   ┆           ┆           ┆           ┆           │\n",
       "│ 1        ┆ 2019-10-0 ┆ 2019-10-0 ┆ N         ┆ … ┆ 9.05      ┆ 2         ┆ 1         ┆ 0.0       │\n",
       "│          ┆ 1         ┆ 1         ┆           ┆   ┆           ┆           ┆           ┆           │\n",
       "│          ┆ 00:18:11  ┆ 00:22:38  ┆           ┆   ┆           ┆           ┆           ┆           │\n",
       "│ 1        ┆ 2019-10-0 ┆ 2019-10-0 ┆ N         ┆ … ┆ 22.8      ┆ 2         ┆ 1         ┆ 0.0       │\n",
       "│          ┆ 1         ┆ 1         ┆           ┆   ┆           ┆           ┆           ┆           │\n",
       "│          ┆ 00:09:31  ┆ 00:24:47  ┆           ┆   ┆           ┆           ┆           ┆           │\n",
       "│ 1        ┆ 2019-10-0 ┆ 2019-10-0 ┆ N         ┆ … ┆ 6.8       ┆ 2         ┆ 1         ┆ 0.0       │\n",
       "│          ┆ 1         ┆ 1         ┆           ┆   ┆           ┆           ┆           ┆           │\n",
       "│          ┆ 00:37:40  ┆ 00:41:49  ┆           ┆   ┆           ┆           ┆           ┆           │\n",
       "│ 2        ┆ 2019-10-0 ┆ 2019-10-0 ┆ N         ┆ … ┆ 13.56     ┆ 1         ┆ 1         ┆ 0.0       │\n",
       "│          ┆ 1         ┆ 1         ┆           ┆   ┆           ┆           ┆           ┆           │\n",
       "│          ┆ 00:08:13  ┆ 00:17:56  ┆           ┆   ┆           ┆           ┆           ┆           │\n",
       "└──────────┴───────────┴───────────┴───────────┴───┴───────────┴───────────┴───────────┴───────────┘"
      ]
     },
     "execution_count": 60,
     "metadata": {},
     "output_type": "execute_result"
    }
   ],
   "source": [
    "green.head()"
   ]
  },
  {
   "cell_type": "code",
   "execution_count": 63,
   "metadata": {},
   "outputs": [
    {
     "data": {
      "text/html": [
       "<div><style>\n",
       ".dataframe > thead > tr,\n",
       ".dataframe > tbody > tr {\n",
       "  text-align: right;\n",
       "  white-space: pre-wrap;\n",
       "}\n",
       "</style>\n",
       "<small>shape: (5, 4)</small><table border=\"1\" class=\"dataframe\"><thead><tr><th>LocationID</th><th>Borough</th><th>Zone</th><th>service_zone</th></tr><tr><td>i64</td><td>str</td><td>str</td><td>str</td></tr></thead><tbody><tr><td>1</td><td>&quot;EWR&quot;</td><td>&quot;Newark Airport&quot;</td><td>&quot;EWR&quot;</td></tr><tr><td>2</td><td>&quot;Queens&quot;</td><td>&quot;Jamaica Bay&quot;</td><td>&quot;Boro Zone&quot;</td></tr><tr><td>3</td><td>&quot;Bronx&quot;</td><td>&quot;Allerton/Pelham Gardens&quot;</td><td>&quot;Boro Zone&quot;</td></tr><tr><td>4</td><td>&quot;Manhattan&quot;</td><td>&quot;Alphabet City&quot;</td><td>&quot;Yellow Zone&quot;</td></tr><tr><td>5</td><td>&quot;Staten Island&quot;</td><td>&quot;Arden Heights&quot;</td><td>&quot;Boro Zone&quot;</td></tr></tbody></table></div>"
      ],
      "text/plain": [
       "shape: (5, 4)\n",
       "┌────────────┬───────────────┬─────────────────────────┬──────────────┐\n",
       "│ LocationID ┆ Borough       ┆ Zone                    ┆ service_zone │\n",
       "│ ---        ┆ ---           ┆ ---                     ┆ ---          │\n",
       "│ i64        ┆ str           ┆ str                     ┆ str          │\n",
       "╞════════════╪═══════════════╪═════════════════════════╪══════════════╡\n",
       "│ 1          ┆ EWR           ┆ Newark Airport          ┆ EWR          │\n",
       "│ 2          ┆ Queens        ┆ Jamaica Bay             ┆ Boro Zone    │\n",
       "│ 3          ┆ Bronx         ┆ Allerton/Pelham Gardens ┆ Boro Zone    │\n",
       "│ 4          ┆ Manhattan     ┆ Alphabet City           ┆ Yellow Zone  │\n",
       "│ 5          ┆ Staten Island ┆ Arden Heights           ┆ Boro Zone    │\n",
       "└────────────┴───────────────┴─────────────────────────┴──────────────┘"
      ]
     },
     "execution_count": 63,
     "metadata": {},
     "output_type": "execute_result"
    }
   ],
   "source": [
    "zone.head()"
   ]
  },
  {
   "cell_type": "markdown",
   "metadata": {},
   "source": [
    "# Questions"
   ]
  },
  {
   "cell_type": "markdown",
   "metadata": {},
   "source": [
    "## 3"
   ]
  },
  {
   "cell_type": "code",
   "execution_count": 40,
   "metadata": {},
   "outputs": [
    {
     "data": {
      "text/html": [
       "<div><style>\n",
       ".dataframe > thead > tr,\n",
       ".dataframe > tbody > tr {\n",
       "  text-align: right;\n",
       "  white-space: pre-wrap;\n",
       "}\n",
       "</style>\n",
       "<small>shape: (1, 5)</small><table border=\"1\" class=\"dataframe\"><thead><tr><th>trips_up_to_1_mile</th><th>trips_between_1_and_3_miles</th><th>trips_between_3_and_7_miles</th><th>trips_between_7_and_10_miles</th><th>trips_over_10_miles</th></tr><tr><td>i32</td><td>i32</td><td>i32</td><td>i32</td><td>i32</td></tr></thead><tbody><tr><td>104802</td><td>198924</td><td>109603</td><td>27678</td><td>35189</td></tr></tbody></table></div>"
      ],
      "text/plain": [
       "shape: (1, 5)\n",
       "┌───────────────────┬───────────────────┬───────────────────┬───────────────────┬──────────────────┐\n",
       "│ trips_up_to_1_mil ┆ trips_between_1_a ┆ trips_between_3_a ┆ trips_between_7_a ┆ trips_over_10_mi │\n",
       "│ e                 ┆ nd_3_miles        ┆ nd_7_miles        ┆ nd_10_miles       ┆ les              │\n",
       "│ ---               ┆ ---               ┆ ---               ┆ ---               ┆ ---              │\n",
       "│ i32               ┆ i32               ┆ i32               ┆ i32               ┆ i32              │\n",
       "╞═══════════════════╪═══════════════════╪═══════════════════╪═══════════════════╪══════════════════╡\n",
       "│ 104802            ┆ 198924            ┆ 109603            ┆ 27678             ┆ 35189            │\n",
       "└───────────────────┴───────────────────┴───────────────────┴───────────────────┴──────────────────┘"
      ]
     },
     "execution_count": 40,
     "metadata": {},
     "output_type": "execute_result"
    }
   ],
   "source": [
    "# 3\n",
    "query = \"\"\"\n",
    "SELECT \n",
    "    SUM(CASE \n",
    "        WHEN trip_distance <= 1 THEN 1 \n",
    "        ELSE 0 \n",
    "    END) AS trips_up_to_1_mile,\n",
    "    SUM(CASE \n",
    "        WHEN trip_distance > 1 AND trip_distance <= 3 THEN 1 \n",
    "        ELSE 0 \n",
    "    END) AS trips_between_1_and_3_miles,\n",
    "    SUM(CASE \n",
    "        WHEN trip_distance > 3 AND trip_distance <= 7 THEN 1 \n",
    "        ELSE 0 \n",
    "    END) AS trips_between_3_and_7_miles,\n",
    "    SUM(CASE \n",
    "        WHEN trip_distance > 7 AND trip_distance <= 10 THEN 1 \n",
    "        ELSE 0 \n",
    "    END) AS trips_between_7_and_10_miles,\n",
    "    SUM(CASE \n",
    "        WHEN trip_distance > 10 THEN 1 \n",
    "        ELSE 0 \n",
    "    END) AS trips_over_10_miles\n",
    "FROM \n",
    "    frame\n",
    "WHERE \n",
    "    lpep_pickup_datetime >= '2019-10-01' \n",
    "    AND lpep_dropoff_datetime < '2019-11-01';\n",
    "\n",
    "\"\"\"\n",
    "green.sql(query, table_name='frame').head(1)"
   ]
  },
  {
   "cell_type": "markdown",
   "metadata": {},
   "source": [
    "## 4"
   ]
  },
  {
   "cell_type": "code",
   "execution_count": 58,
   "metadata": {},
   "outputs": [
    {
     "data": {
      "text/html": [
       "<div><style>\n",
       ".dataframe > thead > tr,\n",
       ".dataframe > tbody > tr {\n",
       "  text-align: right;\n",
       "  white-space: pre-wrap;\n",
       "}\n",
       "</style>\n",
       "<small>shape: (1, 2)</small><table border=\"1\" class=\"dataframe\"><thead><tr><th>trip_distance</th><th>lpep_pickup_datetime</th></tr><tr><td>f64</td><td>datetime[μs]</td></tr></thead><tbody><tr><td>515.89</td><td>2019-10-31 23:23:41</td></tr></tbody></table></div>"
      ],
      "text/plain": [
       "shape: (1, 2)\n",
       "┌───────────────┬──────────────────────┐\n",
       "│ trip_distance ┆ lpep_pickup_datetime │\n",
       "│ ---           ┆ ---                  │\n",
       "│ f64           ┆ datetime[μs]         │\n",
       "╞═══════════════╪══════════════════════╡\n",
       "│ 515.89        ┆ 2019-10-31 23:23:41  │\n",
       "└───────────────┴──────────────────────┘"
      ]
     },
     "execution_count": 58,
     "metadata": {},
     "output_type": "execute_result"
    }
   ],
   "source": [
    "# 4\n",
    "query = \"\"\"\n",
    "SELECT \n",
    "    trip_distance,\n",
    "    lpep_pickup_datetime,\n",
    "FROM\n",
    "    frame\n",
    "ORDER BY\n",
    "    trip_distance DESC\n",
    "\"\"\"\n",
    "green.sql(query, table_name='frame').head(1)"
   ]
  },
  {
   "cell_type": "markdown",
   "metadata": {},
   "source": [
    "## 5"
   ]
  },
  {
   "cell_type": "code",
   "execution_count": 70,
   "metadata": {},
   "outputs": [
    {
     "data": {
      "text/html": [
       "<div><style>\n",
       ".dataframe > thead > tr,\n",
       ".dataframe > tbody > tr {\n",
       "  text-align: right;\n",
       "  white-space: pre-wrap;\n",
       "}\n",
       "</style>\n",
       "<small>shape: (5, 23)</small><table border=\"1\" class=\"dataframe\"><thead><tr><th>VendorID</th><th>lpep_pickup_datetime</th><th>lpep_dropoff_datetime</th><th>store_and_fwd_flag</th><th>RatecodeID</th><th>PULocationID</th><th>DOLocationID</th><th>passenger_count</th><th>trip_distance</th><th>fare_amount</th><th>extra</th><th>mta_tax</th><th>tip_amount</th><th>tolls_amount</th><th>ehail_fee</th><th>improvement_surcharge</th><th>total_amount</th><th>payment_type</th><th>trip_type</th><th>congestion_surcharge</th><th>Borough</th><th>Zone</th><th>service_zone</th></tr><tr><td>i64</td><td>datetime[μs]</td><td>datetime[μs]</td><td>str</td><td>i64</td><td>i64</td><td>i64</td><td>i64</td><td>f64</td><td>f64</td><td>f64</td><td>f64</td><td>f64</td><td>f64</td><td>str</td><td>f64</td><td>f64</td><td>i64</td><td>i64</td><td>f64</td><td>str</td><td>str</td><td>str</td></tr></thead><tbody><tr><td>2</td><td>2019-10-01 00:26:02</td><td>2019-10-01 00:39:58</td><td>&quot;N&quot;</td><td>1</td><td>112</td><td>196</td><td>1</td><td>5.88</td><td>18.0</td><td>0.5</td><td>0.5</td><td>0.0</td><td>0.0</td><td>null</td><td>0.3</td><td>19.3</td><td>2</td><td>1</td><td>0.0</td><td>&quot;Brooklyn&quot;</td><td>&quot;Greenpoint&quot;</td><td>&quot;Boro Zone&quot;</td></tr><tr><td>1</td><td>2019-10-01 00:18:11</td><td>2019-10-01 00:22:38</td><td>&quot;N&quot;</td><td>1</td><td>43</td><td>263</td><td>1</td><td>0.8</td><td>5.0</td><td>3.25</td><td>0.5</td><td>0.0</td><td>0.0</td><td>null</td><td>0.3</td><td>9.05</td><td>2</td><td>1</td><td>0.0</td><td>&quot;Manhattan&quot;</td><td>&quot;Central Park&quot;</td><td>&quot;Yellow Zone&quot;</td></tr><tr><td>1</td><td>2019-10-01 00:09:31</td><td>2019-10-01 00:24:47</td><td>&quot;N&quot;</td><td>1</td><td>255</td><td>228</td><td>2</td><td>7.5</td><td>21.5</td><td>0.5</td><td>0.5</td><td>0.0</td><td>0.0</td><td>null</td><td>0.3</td><td>22.8</td><td>2</td><td>1</td><td>0.0</td><td>&quot;Brooklyn&quot;</td><td>&quot;Williamsburg (North Side)&quot;</td><td>&quot;Boro Zone&quot;</td></tr><tr><td>1</td><td>2019-10-01 00:37:40</td><td>2019-10-01 00:41:49</td><td>&quot;N&quot;</td><td>1</td><td>181</td><td>181</td><td>1</td><td>0.9</td><td>5.5</td><td>0.5</td><td>0.5</td><td>0.0</td><td>0.0</td><td>null</td><td>0.3</td><td>6.8</td><td>2</td><td>1</td><td>0.0</td><td>&quot;Brooklyn&quot;</td><td>&quot;Park Slope&quot;</td><td>&quot;Boro Zone&quot;</td></tr><tr><td>2</td><td>2019-10-01 00:08:13</td><td>2019-10-01 00:17:56</td><td>&quot;N&quot;</td><td>1</td><td>97</td><td>188</td><td>1</td><td>2.52</td><td>10.0</td><td>0.5</td><td>0.5</td><td>2.26</td><td>0.0</td><td>null</td><td>0.3</td><td>13.56</td><td>1</td><td>1</td><td>0.0</td><td>&quot;Brooklyn&quot;</td><td>&quot;Fort Greene&quot;</td><td>&quot;Boro Zone&quot;</td></tr></tbody></table></div>"
      ],
      "text/plain": [
       "shape: (5, 23)\n",
       "┌──────────┬───────────┬───────────┬───────────┬───┬───────────┬───────────┬───────────┬───────────┐\n",
       "│ VendorID ┆ lpep_pick ┆ lpep_drop ┆ store_and ┆ … ┆ congestio ┆ Borough   ┆ Zone      ┆ service_z │\n",
       "│ ---      ┆ up_dateti ┆ off_datet ┆ _fwd_flag ┆   ┆ n_surchar ┆ ---       ┆ ---       ┆ one       │\n",
       "│ i64      ┆ me        ┆ ime       ┆ ---       ┆   ┆ ge        ┆ str       ┆ str       ┆ ---       │\n",
       "│          ┆ ---       ┆ ---       ┆ str       ┆   ┆ ---       ┆           ┆           ┆ str       │\n",
       "│          ┆ datetime[ ┆ datetime[ ┆           ┆   ┆ f64       ┆           ┆           ┆           │\n",
       "│          ┆ μs]       ┆ μs]       ┆           ┆   ┆           ┆           ┆           ┆           │\n",
       "╞══════════╪═══════════╪═══════════╪═══════════╪═══╪═══════════╪═══════════╪═══════════╪═══════════╡\n",
       "│ 2        ┆ 2019-10-0 ┆ 2019-10-0 ┆ N         ┆ … ┆ 0.0       ┆ Brooklyn  ┆ Greenpoin ┆ Boro Zone │\n",
       "│          ┆ 1         ┆ 1         ┆           ┆   ┆           ┆           ┆ t         ┆           │\n",
       "│          ┆ 00:26:02  ┆ 00:39:58  ┆           ┆   ┆           ┆           ┆           ┆           │\n",
       "│ 1        ┆ 2019-10-0 ┆ 2019-10-0 ┆ N         ┆ … ┆ 0.0       ┆ Manhattan ┆ Central   ┆ Yellow    │\n",
       "│          ┆ 1         ┆ 1         ┆           ┆   ┆           ┆           ┆ Park      ┆ Zone      │\n",
       "│          ┆ 00:18:11  ┆ 00:22:38  ┆           ┆   ┆           ┆           ┆           ┆           │\n",
       "│ 1        ┆ 2019-10-0 ┆ 2019-10-0 ┆ N         ┆ … ┆ 0.0       ┆ Brooklyn  ┆ Williamsb ┆ Boro Zone │\n",
       "│          ┆ 1         ┆ 1         ┆           ┆   ┆           ┆           ┆ urg       ┆           │\n",
       "│          ┆ 00:09:31  ┆ 00:24:47  ┆           ┆   ┆           ┆           ┆ (North    ┆           │\n",
       "│          ┆           ┆           ┆           ┆   ┆           ┆           ┆ Side)     ┆           │\n",
       "│ 1        ┆ 2019-10-0 ┆ 2019-10-0 ┆ N         ┆ … ┆ 0.0       ┆ Brooklyn  ┆ Park      ┆ Boro Zone │\n",
       "│          ┆ 1         ┆ 1         ┆           ┆   ┆           ┆           ┆ Slope     ┆           │\n",
       "│          ┆ 00:37:40  ┆ 00:41:49  ┆           ┆   ┆           ┆           ┆           ┆           │\n",
       "│ 2        ┆ 2019-10-0 ┆ 2019-10-0 ┆ N         ┆ … ┆ 0.0       ┆ Brooklyn  ┆ Fort      ┆ Boro Zone │\n",
       "│          ┆ 1         ┆ 1         ┆           ┆   ┆           ┆           ┆ Greene    ┆           │\n",
       "│          ┆ 00:08:13  ┆ 00:17:56  ┆           ┆   ┆           ┆           ┆           ┆           │\n",
       "└──────────┴───────────┴───────────┴───────────┴───┴───────────┴───────────┴───────────┴───────────┘"
      ]
     },
     "execution_count": 70,
     "metadata": {},
     "output_type": "execute_result"
    }
   ],
   "source": [
    "joined_table = green.join(zone , right_on=\"LocationID\", left_on=\"PULocationID\", how=\"left\")\n",
    "joined_table.head()"
   ]
  },
  {
   "cell_type": "code",
   "execution_count": 84,
   "metadata": {},
   "outputs": [
    {
     "data": {
      "text/html": [
       "<div><style>\n",
       ".dataframe > thead > tr,\n",
       ".dataframe > tbody > tr {\n",
       "  text-align: right;\n",
       "  white-space: pre-wrap;\n",
       "}\n",
       "</style>\n",
       "<small>shape: (3, 2)</small><table border=\"1\" class=\"dataframe\"><thead><tr><th>cnt</th><th>Zone</th></tr><tr><td>f64</td><td>str</td></tr></thead><tbody><tr><td>18686.68</td><td>&quot;East Harlem North&quot;</td></tr><tr><td>16797.26</td><td>&quot;East Harlem South&quot;</td></tr><tr><td>13029.79</td><td>&quot;Morningside Heights&quot;</td></tr></tbody></table></div>"
      ],
      "text/plain": [
       "shape: (3, 2)\n",
       "┌──────────┬─────────────────────┐\n",
       "│ cnt      ┆ Zone                │\n",
       "│ ---      ┆ ---                 │\n",
       "│ f64      ┆ str                 │\n",
       "╞══════════╪═════════════════════╡\n",
       "│ 18686.68 ┆ East Harlem North   │\n",
       "│ 16797.26 ┆ East Harlem South   │\n",
       "│ 13029.79 ┆ Morningside Heights │\n",
       "└──────────┴─────────────────────┘"
      ]
     },
     "execution_count": 84,
     "metadata": {},
     "output_type": "execute_result"
    }
   ],
   "source": [
    "# 5\n",
    "query = \"\"\"\n",
    "SELECT \n",
    "    SUM(total_amount) as cnt,\n",
    "    Zone\n",
    "FROM\n",
    "    frame\n",
    "WHERE\n",
    "    lpep_pickup_datetime >= '2019-10-18' AND lpep_pickup_datetime < '2019-10-19'\n",
    "GROUP BY\n",
    "    Zone\n",
    "ORDER BY\n",
    "    cnt DESC\n",
    "\"\"\"\n",
    "joined_table.sql(query, table_name='frame').head(3)"
   ]
  },
  {
   "cell_type": "markdown",
   "metadata": {},
   "source": [
    "## 6"
   ]
  },
  {
   "cell_type": "code",
   "execution_count": 86,
   "metadata": {},
   "outputs": [
    {
     "data": {
      "text/html": [
       "<div><style>\n",
       ".dataframe > thead > tr,\n",
       ".dataframe > tbody > tr {\n",
       "  text-align: right;\n",
       "  white-space: pre-wrap;\n",
       "}\n",
       "</style>\n",
       "<small>shape: (5, 23)</small><table border=\"1\" class=\"dataframe\"><thead><tr><th>VendorID</th><th>lpep_pickup_datetime</th><th>lpep_dropoff_datetime</th><th>store_and_fwd_flag</th><th>RatecodeID</th><th>PULocationID</th><th>DOLocationID</th><th>passenger_count</th><th>trip_distance</th><th>fare_amount</th><th>extra</th><th>mta_tax</th><th>tip_amount</th><th>tolls_amount</th><th>ehail_fee</th><th>improvement_surcharge</th><th>total_amount</th><th>payment_type</th><th>trip_type</th><th>congestion_surcharge</th><th>Borough</th><th>Zone</th><th>service_zone</th></tr><tr><td>i64</td><td>datetime[μs]</td><td>datetime[μs]</td><td>str</td><td>i64</td><td>i64</td><td>i64</td><td>i64</td><td>f64</td><td>f64</td><td>f64</td><td>f64</td><td>f64</td><td>f64</td><td>str</td><td>f64</td><td>f64</td><td>i64</td><td>i64</td><td>f64</td><td>str</td><td>str</td><td>str</td></tr></thead><tbody><tr><td>2</td><td>2019-10-01 00:26:02</td><td>2019-10-01 00:39:58</td><td>&quot;N&quot;</td><td>1</td><td>112</td><td>196</td><td>1</td><td>5.88</td><td>18.0</td><td>0.5</td><td>0.5</td><td>0.0</td><td>0.0</td><td>null</td><td>0.3</td><td>19.3</td><td>2</td><td>1</td><td>0.0</td><td>&quot;Queens&quot;</td><td>&quot;Rego Park&quot;</td><td>&quot;Boro Zone&quot;</td></tr><tr><td>1</td><td>2019-10-01 00:18:11</td><td>2019-10-01 00:22:38</td><td>&quot;N&quot;</td><td>1</td><td>43</td><td>263</td><td>1</td><td>0.8</td><td>5.0</td><td>3.25</td><td>0.5</td><td>0.0</td><td>0.0</td><td>null</td><td>0.3</td><td>9.05</td><td>2</td><td>1</td><td>0.0</td><td>&quot;Manhattan&quot;</td><td>&quot;Yorkville West&quot;</td><td>&quot;Yellow Zone&quot;</td></tr><tr><td>1</td><td>2019-10-01 00:09:31</td><td>2019-10-01 00:24:47</td><td>&quot;N&quot;</td><td>1</td><td>255</td><td>228</td><td>2</td><td>7.5</td><td>21.5</td><td>0.5</td><td>0.5</td><td>0.0</td><td>0.0</td><td>null</td><td>0.3</td><td>22.8</td><td>2</td><td>1</td><td>0.0</td><td>&quot;Brooklyn&quot;</td><td>&quot;Sunset Park West&quot;</td><td>&quot;Boro Zone&quot;</td></tr><tr><td>1</td><td>2019-10-01 00:37:40</td><td>2019-10-01 00:41:49</td><td>&quot;N&quot;</td><td>1</td><td>181</td><td>181</td><td>1</td><td>0.9</td><td>5.5</td><td>0.5</td><td>0.5</td><td>0.0</td><td>0.0</td><td>null</td><td>0.3</td><td>6.8</td><td>2</td><td>1</td><td>0.0</td><td>&quot;Brooklyn&quot;</td><td>&quot;Park Slope&quot;</td><td>&quot;Boro Zone&quot;</td></tr><tr><td>2</td><td>2019-10-01 00:08:13</td><td>2019-10-01 00:17:56</td><td>&quot;N&quot;</td><td>1</td><td>97</td><td>188</td><td>1</td><td>2.52</td><td>10.0</td><td>0.5</td><td>0.5</td><td>2.26</td><td>0.0</td><td>null</td><td>0.3</td><td>13.56</td><td>1</td><td>1</td><td>0.0</td><td>&quot;Brooklyn&quot;</td><td>&quot;Prospect-Lefferts Gardens&quot;</td><td>&quot;Boro Zone&quot;</td></tr></tbody></table></div>"
      ],
      "text/plain": [
       "shape: (5, 23)\n",
       "┌──────────┬───────────┬───────────┬───────────┬───┬───────────┬───────────┬───────────┬───────────┐\n",
       "│ VendorID ┆ lpep_pick ┆ lpep_drop ┆ store_and ┆ … ┆ congestio ┆ Borough   ┆ Zone      ┆ service_z │\n",
       "│ ---      ┆ up_dateti ┆ off_datet ┆ _fwd_flag ┆   ┆ n_surchar ┆ ---       ┆ ---       ┆ one       │\n",
       "│ i64      ┆ me        ┆ ime       ┆ ---       ┆   ┆ ge        ┆ str       ┆ str       ┆ ---       │\n",
       "│          ┆ ---       ┆ ---       ┆ str       ┆   ┆ ---       ┆           ┆           ┆ str       │\n",
       "│          ┆ datetime[ ┆ datetime[ ┆           ┆   ┆ f64       ┆           ┆           ┆           │\n",
       "│          ┆ μs]       ┆ μs]       ┆           ┆   ┆           ┆           ┆           ┆           │\n",
       "╞══════════╪═══════════╪═══════════╪═══════════╪═══╪═══════════╪═══════════╪═══════════╪═══════════╡\n",
       "│ 2        ┆ 2019-10-0 ┆ 2019-10-0 ┆ N         ┆ … ┆ 0.0       ┆ Queens    ┆ Rego Park ┆ Boro Zone │\n",
       "│          ┆ 1         ┆ 1         ┆           ┆   ┆           ┆           ┆           ┆           │\n",
       "│          ┆ 00:26:02  ┆ 00:39:58  ┆           ┆   ┆           ┆           ┆           ┆           │\n",
       "│ 1        ┆ 2019-10-0 ┆ 2019-10-0 ┆ N         ┆ … ┆ 0.0       ┆ Manhattan ┆ Yorkville ┆ Yellow    │\n",
       "│          ┆ 1         ┆ 1         ┆           ┆   ┆           ┆           ┆ West      ┆ Zone      │\n",
       "│          ┆ 00:18:11  ┆ 00:22:38  ┆           ┆   ┆           ┆           ┆           ┆           │\n",
       "│ 1        ┆ 2019-10-0 ┆ 2019-10-0 ┆ N         ┆ … ┆ 0.0       ┆ Brooklyn  ┆ Sunset    ┆ Boro Zone │\n",
       "│          ┆ 1         ┆ 1         ┆           ┆   ┆           ┆           ┆ Park West ┆           │\n",
       "│          ┆ 00:09:31  ┆ 00:24:47  ┆           ┆   ┆           ┆           ┆           ┆           │\n",
       "│ 1        ┆ 2019-10-0 ┆ 2019-10-0 ┆ N         ┆ … ┆ 0.0       ┆ Brooklyn  ┆ Park      ┆ Boro Zone │\n",
       "│          ┆ 1         ┆ 1         ┆           ┆   ┆           ┆           ┆ Slope     ┆           │\n",
       "│          ┆ 00:37:40  ┆ 00:41:49  ┆           ┆   ┆           ┆           ┆           ┆           │\n",
       "│ 2        ┆ 2019-10-0 ┆ 2019-10-0 ┆ N         ┆ … ┆ 0.0       ┆ Brooklyn  ┆ Prospect- ┆ Boro Zone │\n",
       "│          ┆ 1         ┆ 1         ┆           ┆   ┆           ┆           ┆ Lefferts  ┆           │\n",
       "│          ┆ 00:08:13  ┆ 00:17:56  ┆           ┆   ┆           ┆           ┆ Gardens   ┆           │\n",
       "└──────────┴───────────┴───────────┴───────────┴───┴───────────┴───────────┴───────────┴───────────┘"
      ]
     },
     "execution_count": 86,
     "metadata": {},
     "output_type": "execute_result"
    }
   ],
   "source": [
    "joined_table2 = green.join(zone , right_on=\"LocationID\", left_on=\"DOLocationID\", how=\"left\")\n",
    "joined_table2.head()"
   ]
  },
  {
   "cell_type": "code",
   "execution_count": 96,
   "metadata": {},
   "outputs": [
    {
     "data": {
      "text/html": [
       "<div><style>\n",
       ".dataframe > thead > tr,\n",
       ".dataframe > tbody > tr {\n",
       "  text-align: right;\n",
       "  white-space: pre-wrap;\n",
       "}\n",
       "</style>\n",
       "<small>shape: (1, 2)</small><table border=\"1\" class=\"dataframe\"><thead><tr><th>cnt</th><th>Zone</th></tr><tr><td>f64</td><td>str</td></tr></thead><tbody><tr><td>54.11</td><td>&quot;East Harlem North&quot;</td></tr></tbody></table></div>"
      ],
      "text/plain": [
       "shape: (1, 2)\n",
       "┌───────┬───────────────────┐\n",
       "│ cnt   ┆ Zone              │\n",
       "│ ---   ┆ ---               │\n",
       "│ f64   ┆ str               │\n",
       "╞═══════╪═══════════════════╡\n",
       "│ 54.11 ┆ East Harlem North │\n",
       "└───────┴───────────────────┘"
      ]
     },
     "execution_count": 96,
     "metadata": {},
     "output_type": "execute_result"
    }
   ],
   "source": [
    "# 6\n",
    "query = \"\"\"\n",
    "SELECT \n",
    "    MAX(tip_amount) as cnt,\n",
    "    Zone\n",
    "FROM\n",
    "    frame\n",
    "WHERE\n",
    "    lpep_pickup_datetime >= '2019-10-01' AND lpep_pickup_datetime < '2019-11-01' AND Zone = 'East Harlem North'\n",
    "GROUP BY\n",
    "    Zone\n",
    "ORDER BY\n",
    "    cnt DESC\n",
    "\"\"\"\n",
    "joined_table2.sql(query, table_name='frame').head(3)"
   ]
  }
 ],
 "metadata": {
  "kernelspec": {
   "display_name": ".venv",
   "language": "python",
   "name": "python3"
  },
  "language_info": {
   "codemirror_mode": {
    "name": "ipython",
    "version": 3
   },
   "file_extension": ".py",
   "mimetype": "text/x-python",
   "name": "python",
   "nbconvert_exporter": "python",
   "pygments_lexer": "ipython3",
   "version": "3.10.7"
  }
 },
 "nbformat": 4,
 "nbformat_minor": 2
}
